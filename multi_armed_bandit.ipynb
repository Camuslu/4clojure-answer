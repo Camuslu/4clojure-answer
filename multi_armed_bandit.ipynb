{
  "nbformat": 4,
  "nbformat_minor": 0,
  "metadata": {
    "colab": {
      "name": "multi armed bandit.ipynb",
      "provenance": [],
      "collapsed_sections": [],
      "authorship_tag": "ABX9TyMCp2kKzrUVmV4Bk3A8y5k8",
      "include_colab_link": true
    },
    "kernelspec": {
      "name": "python3",
      "display_name": "Python 3"
    },
    "language_info": {
      "name": "python"
    }
  },
  "cells": [
    {
      "cell_type": "markdown",
      "metadata": {
        "id": "view-in-github",
        "colab_type": "text"
      },
      "source": [
        "<a href=\"https://colab.research.google.com/github/Camuslu/4clojure-answer/blob/master/multi_armed_bandit.ipynb\" target=\"_parent\"><img src=\"https://colab.research.google.com/assets/colab-badge.svg\" alt=\"Open In Colab\"/></a>"
      ]
    },
    {
      "cell_type": "code",
      "execution_count": 1,
      "metadata": {
        "id": "mv2STvkq0d4w"
      },
      "outputs": [],
      "source": [
        "import numpy as np"
      ]
    },
    {
      "cell_type": "code",
      "source": [
        "class Arm:\n",
        "  def __init__(self, p):\n",
        "    self.p = p\n",
        "\n",
        "  def get_p(self):\n",
        "    return self.p\n",
        "  \n",
        "  def toss(self):\n",
        "    return np.random.binomial(1, self.p, 1)[0]"
      ],
      "metadata": {
        "id": "GO7tDKZR43fG"
      },
      "execution_count": 46,
      "outputs": []
    },
    {
      "cell_type": "code",
      "source": [
        "a1 = Arm(0.8)"
      ],
      "metadata": {
        "id": "ryrjxFQT5O1x"
      },
      "execution_count": 9,
      "outputs": []
    },
    {
      "cell_type": "code",
      "source": [
        "number_of_arms =5"
      ],
      "metadata": {
        "id": "L0EehBwwCuEZ"
      },
      "execution_count": 82,
      "outputs": []
    },
    {
      "cell_type": "markdown",
      "source": [
        "5 bandits, with prob 0.4, 0.45, 0.5, 0.55, 0.6"
      ],
      "metadata": {
        "id": "5NdEdCs86yNh"
      }
    },
    {
      "cell_type": "code",
      "source": [
        "Arms = [Arm(0.4 + p*0.05) for p in range(5)]"
      ],
      "metadata": {
        "id": "f9MDsgPc5T4F"
      },
      "execution_count": 47,
      "outputs": []
    },
    {
      "cell_type": "code",
      "source": [
        "## init estimate reward to be high, so that each arm shall get some chance to be exploited in the initial phase\n",
        "estimate_reward = np.array([1.0] * 5)\n",
        "chosen_times = np.array([1] * 5)\n",
        "avg_regret_by_turn = []\n",
        "expected_return_best_arm = 0.6\n",
        "arm_expected_return = np.array([arm.get_p() for arm in Arms])"
      ],
      "metadata": {
        "id": "Kaigj89Q6irD"
      },
      "execution_count": 107,
      "outputs": []
    },
    {
      "cell_type": "markdown",
      "source": [
        "## Greedy **Algorithm**"
      ],
      "metadata": {
        "id": "SiynhtHr6HXs"
      }
    },
    {
      "cell_type": "code",
      "source": [
        "def choose_argmax_arm(estimate_reward):\n",
        "    return np.random.choice(np.flatnonzero(estimate_reward == estimate_reward.max()))"
      ],
      "metadata": {
        "id": "hD6adyKO7qsH"
      },
      "execution_count": 108,
      "outputs": []
    },
    {
      "cell_type": "code",
      "source": [
        "for turn in range(500):\n",
        "    arm_index = choose_argmax_arm(estimate_reward)\n",
        "    arm = Arms[arm_index]\n",
        "    reward = arm.toss()\n",
        "    new_estimate_for_chosen_arm = (chosen_times[arm_index] * estimate_reward[arm_index] + reward)/(chosen_times[arm_index] + 1)\n",
        "    estimate_reward[arm_index] = new_estimate_for_chosen_arm\n",
        "    chosen_times[arm_index] += 1\n",
        "    total_reward = np.dot(chosen_times-1, estimate_reward)\n",
        "    avg_regret_by_turn.append(expected_return_best_arm - np.dot(chosen_times - 1, arm_expected_return)/np.sum(chosen_times - 1))"
      ],
      "metadata": {
        "id": "UaMuaDh06lAt"
      },
      "execution_count": 109,
      "outputs": []
    },
    {
      "cell_type": "code",
      "source": [
        "chosen_times"
      ],
      "metadata": {
        "colab": {
          "base_uri": "https://localhost:8080/"
        },
        "id": "bcughenN9hKi",
        "outputId": "847045dc-5044-4e10-edb2-9286d661b901"
      },
      "execution_count": 110,
      "outputs": [
        {
          "output_type": "execute_result",
          "data": {
            "text/plain": [
              "array([  2,   8,  37, 450,   8])"
            ]
          },
          "metadata": {},
          "execution_count": 110
        }
      ]
    },
    {
      "cell_type": "code",
      "source": [
        "estimate_reward"
      ],
      "metadata": {
        "colab": {
          "base_uri": "https://localhost:8080/"
        },
        "id": "dEoBDnSX9KxP",
        "outputId": "b62d89cb-afca-4615-e473-805a5752813b"
      },
      "execution_count": 40,
      "outputs": [
        {
          "output_type": "execute_result",
          "data": {
            "text/plain": [
              "array([0.5      , 0.5      , 0.5      , 0.6      , 0.6119403])"
            ]
          },
          "metadata": {},
          "execution_count": 40
        }
      ]
    },
    {
      "cell_type": "code",
      "source": [
        "import matplotlib.pyplot as plt\n",
        "plt.plot(range(500), avg_regret_by_turn)\n"
      ],
      "metadata": {
        "colab": {
          "base_uri": "https://localhost:8080/",
          "height": 282
        },
        "id": "ZfVlgNoZ-qOj",
        "outputId": "1c55ab96-b409-41cb-d01f-81559ea2e371"
      },
      "execution_count": 111,
      "outputs": [
        {
          "output_type": "execute_result",
          "data": {
            "text/plain": [
              "[<matplotlib.lines.Line2D at 0x7f21d6c9a1d0>]"
            ]
          },
          "metadata": {},
          "execution_count": 111
        },
        {
          "output_type": "display_data",
          "data": {
            "text/plain": [
              "<Figure size 432x288 with 1 Axes>"
            ],
            "image/png": "[encoded data removed]"
          },
          "metadata": {
            "needs_background": "light"
          }
        }
      ]
    },
    {
      "cell_type": "markdown",
      "source": [
        ""
      ],
      "metadata": {
        "id": "pi2oxsaWAtYi"
      }
    },
    {
      "cell_type": "markdown",
      "source": [
        "## Epsilon Greedy"
      ],
      "metadata": {
        "id": "7q_mJEYPAvAb"
      }
    },
    {
      "cell_type": "code",
      "source": [
        "## init estimate reward to be high, so that each arm shall get some chance to be exploited in the initial phase\n",
        "estimate_reward = np.array([1.0] * 5)\n",
        "chosen_times = np.array([1] * 5)\n",
        "expected_return_best_arm = 0.6\n",
        "arm_expected_return = np.array([arm.get_p() for arm in Arms])\n",
        "avg_regret_by_turn_epsilon = []"
      ],
      "metadata": {
        "id": "_iTFkyI3B_FN"
      },
      "execution_count": 103,
      "outputs": []
    },
    {
      "cell_type": "code",
      "source": [
        "epsilon = 0.1\n",
        "def choose_arm(estimate_reward):\n",
        "  if np.random.uniform(0, 1) < epsilon:\n",
        "      return np.random.choice(number_of_arms)\n",
        "  else:\n",
        "      return choose_argmax_arm(estimate_reward)"
      ],
      "metadata": {
        "id": "2-TLmbXiCDuG"
      },
      "execution_count": 104,
      "outputs": []
    },
    {
      "cell_type": "code",
      "source": [
        "for turn in range(500):\n",
        "    arm_index = choose_arm(estimate_reward)\n",
        "    arm = Arms[arm_index]\n",
        "    reward = arm.toss()\n",
        "    new_estimate_for_chosen_arm = (chosen_times[arm_index] * estimate_reward[arm_index] + reward)/(chosen_times[arm_index] + 1)\n",
        "    estimate_reward[arm_index] = new_estimate_for_chosen_arm\n",
        "    chosen_times[arm_index] += 1\n",
        "    total_reward = np.dot(chosen_times-1, estimate_reward)\n",
        "    avg_regret_by_turn_epsilon.append(expected_return_best_arm - np.dot(chosen_times - 1, arm_expected_return)/np.sum(chosen_times - 1))"
      ],
      "metadata": {
        "id": "R-DtfucAAxUA"
      },
      "execution_count": 105,
      "outputs": []
    },
    {
      "cell_type": "code",
      "source": [
        "import matplotlib.pyplot as plt\n",
        "plt.plot(range(500), avg_regret_by_turn, label = \"greedy\")\n",
        "plt.plot(range(500), avg_regret_by_turn_epsilon, label = \"epsilon = 0.1\")\n",
        "plt.legend()\n",
        "plt.show()\n"
      ],
      "metadata": {
        "colab": {
          "base_uri": "https://localhost:8080/",
          "height": 265
        },
        "id": "evhXmuuCCNTP",
        "outputId": "1a6797da-084a-4ac5-ee30-3f09fb7cc40b"
      },
      "execution_count": 113,
      "outputs": [
        {
          "output_type": "display_data",
          "data": {
            "text/plain": [
              "<Figure size 432x288 with 1 Axes>"
            ],
            "image/png": "[encoded data removed]"
          },
          "metadata": {
            "needs_background": "light"
          }
        }
      ]
    },
    {
      "cell_type": "code",
      "source": [
        ""
      ],
      "metadata": {
        "id": "yzcAL9J5CNlG"
      },
      "execution_count": null,
      "outputs": []
    }
  ]
}