{
  "nbformat": 4,
  "nbformat_minor": 0,
  "metadata": {
    "colab": {
      "name": "multi armed bandit.ipynb",
      "provenance": [],
      "collapsed_sections": [],
      "authorship_tag": "ABX9TyO1ZmY92kLwxzJcjX0p6YGq",
      "include_colab_link": true
    },
    "kernelspec": {
      "name": "python3",
      "display_name": "Python 3"
    },
    "language_info": {
      "name": "python"
    }
  },
  "cells": [
    {
      "cell_type": "markdown",
      "metadata": {
        "id": "view-in-github",
        "colab_type": "text"
      },
      "source": [
        "<a href=\"https://colab.research.google.com/github/Camuslu/4clojure-answer/blob/master/multi_armed_bandit.ipynb\" target=\"_parent\"><img src=\"https://colab.research.google.com/assets/colab-badge.svg\" alt=\"Open In Colab\"/></a>"
      ]
    },
    {
      "cell_type": "code",
      "execution_count": 1,
      "metadata": {
        "id": "mv2STvkq0d4w"
      },
      "outputs": [],
      "source": [
        "import numpy as np"
      ]
    },
    {
      "cell_type": "code",
      "source": [
        "class Arm:\n",
        "  def __init__(self, p):\n",
        "    self.p = p\n",
        "\n",
        "  def get_p(self):\n",
        "    return self.p\n",
        "  \n",
        "  def toss(self):\n",
        "    return np.random.binomial(1, self.p, 1)[0]"
      ],
      "metadata": {
        "id": "GO7tDKZR43fG"
      },
      "execution_count": 46,
      "outputs": []
    },
    {
      "cell_type": "code",
      "source": [
        "a1 = Arm(0.8)"
      ],
      "metadata": {
        "id": "ryrjxFQT5O1x"
      },
      "execution_count": 9,
      "outputs": []
    },
    {
      "cell_type": "code",
      "source": [
        "number_of_arms =5"
      ],
      "metadata": {
        "id": "L0EehBwwCuEZ"
      },
      "execution_count": 82,
      "outputs": []
    },
    {
      "cell_type": "markdown",
      "source": [
        "5 bandits, with prob 0.4, 0.45, 0.5, 0.55, 0.6"
      ],
      "metadata": {
        "id": "5NdEdCs86yNh"
      }
    },
    {
      "cell_type": "code",
      "source": [
        "Arms = [Arm(0.4 + p*0.05) for p in range(5)]"
      ],
      "metadata": {
        "id": "f9MDsgPc5T4F"
      },
      "execution_count": 47,
      "outputs": []
    },
    {
      "cell_type": "code",
      "source": [
        ""
      ],
      "metadata": {
        "id": "Kaigj89Q6irD"
      },
      "execution_count": 107,
      "outputs": []
    },
    {
      "cell_type": "markdown",
      "source": [
        "## Greedy **Algorithm**"
      ],
      "metadata": {
        "id": "SiynhtHr6HXs"
      }
    },
    {
      "cell_type": "code",
      "source": [
        "## init estimate reward to be high, so that each arm shall get some chance to be exploited in the initial phase\n",
        "estimate_reward = np.array([1.0] * 5)\n",
        "chosen_times = np.array([1] * 5)\n",
        "avg_regret_by_turn = []\n",
        "expected_return_best_arm = 0.6\n",
        "arm_expected_return = np.array([arm.get_p() for arm in Arms])"
      ],
      "metadata": {
        "id": "4SS6iRdcHCgD"
      },
      "execution_count": 138,
      "outputs": []
    },
    {
      "cell_type": "code",
      "source": [
        "def choose_argmax_arm(estimate_reward):\n",
        "    return np.random.choice(np.flatnonzero(estimate_reward == estimate_reward.max()))"
      ],
      "metadata": {
        "id": "hD6adyKO7qsH"
      },
      "execution_count": 139,
      "outputs": []
    },
    {
      "cell_type": "code",
      "source": [
        "for turn in range(500):\n",
        "    arm_index = choose_argmax_arm(estimate_reward)\n",
        "    arm = Arms[arm_index]\n",
        "    reward = arm.toss()\n",
        "    new_estimate_for_chosen_arm = (chosen_times[arm_index] * estimate_reward[arm_index] + reward)/(chosen_times[arm_index] + 1)\n",
        "    estimate_reward[arm_index] = new_estimate_for_chosen_arm\n",
        "    chosen_times[arm_index] += 1\n",
        "    total_reward = np.dot(chosen_times-1, estimate_reward)\n",
        "    avg_regret_by_turn.append(expected_return_best_arm - np.dot(chosen_times - 1, arm_expected_return)/np.sum(chosen_times - 1))"
      ],
      "metadata": {
        "id": "UaMuaDh06lAt"
      },
      "execution_count": 140,
      "outputs": []
    },
    {
      "cell_type": "code",
      "source": [
        "chosen_times"
      ],
      "metadata": {
        "colab": {
          "base_uri": "https://localhost:8080/"
        },
        "id": "bcughenN9hKi",
        "outputId": "4ad3cd8c-5194-44e5-b2df-338f5391a39f"
      },
      "execution_count": 141,
      "outputs": [
        {
          "output_type": "execute_result",
          "data": {
            "text/plain": [
              "array([  3,   9,   4, 486,   3])"
            ]
          },
          "metadata": {},
          "execution_count": 141
        }
      ]
    },
    {
      "cell_type": "code",
      "source": [
        "estimate_reward"
      ],
      "metadata": {
        "colab": {
          "base_uri": "https://localhost:8080/"
        },
        "id": "dEoBDnSX9KxP",
        "outputId": "de74bc42-898c-4ebe-aacc-14da3314e122"
      },
      "execution_count": 117,
      "outputs": [
        {
          "output_type": "execute_result",
          "data": {
            "text/plain": [
              "array([0.5       , 0.5       , 0.51351351, 0.54421053, 0.5       ])"
            ]
          },
          "metadata": {},
          "execution_count": 117
        }
      ]
    },
    {
      "cell_type": "code",
      "source": [
        "import matplotlib.pyplot as plt\n",
        "plt.plot(range(500), avg_regret_by_turn)\n"
      ],
      "metadata": {
        "colab": {
          "base_uri": "https://localhost:8080/",
          "height": 581
        },
        "id": "ZfVlgNoZ-qOj",
        "outputId": "75f1f715-6d2d-427e-e8ab-29c0de4b1f0e"
      },
      "execution_count": 119,
      "outputs": [
        {
          "output_type": "error",
          "ename": "ValueError",
          "evalue": "ignored",
          "traceback": [
            "\u001b[0;31m---------------------------------------------------------------------------\u001b[0m",
            "\u001b[0;31mValueError\u001b[0m                                Traceback (most recent call last)",
            "\u001b[0;32m<ipython-input-119-8e4be2cbd01c>\u001b[0m in \u001b[0;36m<module>\u001b[0;34m()\u001b[0m\n\u001b[1;32m      1\u001b[0m \u001b[0;32mimport\u001b[0m \u001b[0mmatplotlib\u001b[0m\u001b[0;34m.\u001b[0m\u001b[0mpyplot\u001b[0m \u001b[0;32mas\u001b[0m \u001b[0mplt\u001b[0m\u001b[0;34m\u001b[0m\u001b[0;34m\u001b[0m\u001b[0m\n\u001b[0;32m----> 2\u001b[0;31m \u001b[0mplt\u001b[0m\u001b[0;34m.\u001b[0m\u001b[0mplot\u001b[0m\u001b[0;34m(\u001b[0m\u001b[0mrange\u001b[0m\u001b[0;34m(\u001b[0m\u001b[0;36m500\u001b[0m\u001b[0;34m)\u001b[0m\u001b[0;34m,\u001b[0m \u001b[0mavg_regret_by_turn\u001b[0m\u001b[0;34m)\u001b[0m\u001b[0;34m\u001b[0m\u001b[0;34m\u001b[0m\u001b[0m\n\u001b[0m",
            "\u001b[0;32m/usr/local/lib/python3.7/dist-packages/matplotlib/pyplot.py\u001b[0m in \u001b[0;36mplot\u001b[0;34m(scalex, scaley, data, *args, **kwargs)\u001b[0m\n\u001b[1;32m   2761\u001b[0m     return gca().plot(\n\u001b[1;32m   2762\u001b[0m         *args, scalex=scalex, scaley=scaley, **({\"data\": data} if data\n\u001b[0;32m-> 2763\u001b[0;31m         is not None else {}), **kwargs)\n\u001b[0m\u001b[1;32m   2764\u001b[0m \u001b[0;34m\u001b[0m\u001b[0m\n\u001b[1;32m   2765\u001b[0m \u001b[0;34m\u001b[0m\u001b[0m\n",
            "\u001b[0;32m/usr/local/lib/python3.7/dist-packages/matplotlib/axes/_axes.py\u001b[0m in \u001b[0;36mplot\u001b[0;34m(self, scalex, scaley, data, *args, **kwargs)\u001b[0m\n\u001b[1;32m   1645\u001b[0m         \"\"\"\n\u001b[1;32m   1646\u001b[0m         \u001b[0mkwargs\u001b[0m \u001b[0;34m=\u001b[0m \u001b[0mcbook\u001b[0m\u001b[0;34m.\u001b[0m\u001b[0mnormalize_kwargs\u001b[0m\u001b[0;34m(\u001b[0m\u001b[0mkwargs\u001b[0m\u001b[0;34m,\u001b[0m \u001b[0mmlines\u001b[0m\u001b[0;34m.\u001b[0m\u001b[0mLine2D\u001b[0m\u001b[0;34m)\u001b[0m\u001b[0;34m\u001b[0m\u001b[0;34m\u001b[0m\u001b[0m\n\u001b[0;32m-> 1647\u001b[0;31m         \u001b[0mlines\u001b[0m \u001b[0;34m=\u001b[0m \u001b[0;34m[\u001b[0m\u001b[0;34m*\u001b[0m\u001b[0mself\u001b[0m\u001b[0;34m.\u001b[0m\u001b[0m_get_lines\u001b[0m\u001b[0;34m(\u001b[0m\u001b[0;34m*\u001b[0m\u001b[0margs\u001b[0m\u001b[0;34m,\u001b[0m \u001b[0mdata\u001b[0m\u001b[0;34m=\u001b[0m\u001b[0mdata\u001b[0m\u001b[0;34m,\u001b[0m \u001b[0;34m**\u001b[0m\u001b[0mkwargs\u001b[0m\u001b[0;34m)\u001b[0m\u001b[0;34m]\u001b[0m\u001b[0;34m\u001b[0m\u001b[0;34m\u001b[0m\u001b[0m\n\u001b[0m\u001b[1;32m   1648\u001b[0m         \u001b[0;32mfor\u001b[0m \u001b[0mline\u001b[0m \u001b[0;32min\u001b[0m \u001b[0mlines\u001b[0m\u001b[0;34m:\u001b[0m\u001b[0;34m\u001b[0m\u001b[0;34m\u001b[0m\u001b[0m\n\u001b[1;32m   1649\u001b[0m             \u001b[0mself\u001b[0m\u001b[0;34m.\u001b[0m\u001b[0madd_line\u001b[0m\u001b[0;34m(\u001b[0m\u001b[0mline\u001b[0m\u001b[0;34m)\u001b[0m\u001b[0;34m\u001b[0m\u001b[0;34m\u001b[0m\u001b[0m\n",
            "\u001b[0;32m/usr/local/lib/python3.7/dist-packages/matplotlib/axes/_base.py\u001b[0m in \u001b[0;36m__call__\u001b[0;34m(self, *args, **kwargs)\u001b[0m\n\u001b[1;32m    214\u001b[0m                 \u001b[0mthis\u001b[0m \u001b[0;34m+=\u001b[0m \u001b[0margs\u001b[0m\u001b[0;34m[\u001b[0m\u001b[0;36m0\u001b[0m\u001b[0;34m]\u001b[0m\u001b[0;34m,\u001b[0m\u001b[0;34m\u001b[0m\u001b[0;34m\u001b[0m\u001b[0m\n\u001b[1;32m    215\u001b[0m                 \u001b[0margs\u001b[0m \u001b[0;34m=\u001b[0m \u001b[0margs\u001b[0m\u001b[0;34m[\u001b[0m\u001b[0;36m1\u001b[0m\u001b[0;34m:\u001b[0m\u001b[0;34m]\u001b[0m\u001b[0;34m\u001b[0m\u001b[0;34m\u001b[0m\u001b[0m\n\u001b[0;32m--> 216\u001b[0;31m             \u001b[0;32myield\u001b[0m \u001b[0;32mfrom\u001b[0m \u001b[0mself\u001b[0m\u001b[0;34m.\u001b[0m\u001b[0m_plot_args\u001b[0m\u001b[0;34m(\u001b[0m\u001b[0mthis\u001b[0m\u001b[0;34m,\u001b[0m \u001b[0mkwargs\u001b[0m\u001b[0;34m)\u001b[0m\u001b[0;34m\u001b[0m\u001b[0;34m\u001b[0m\u001b[0m\n\u001b[0m\u001b[1;32m    217\u001b[0m \u001b[0;34m\u001b[0m\u001b[0m\n\u001b[1;32m    218\u001b[0m     \u001b[0;32mdef\u001b[0m \u001b[0mget_next_color\u001b[0m\u001b[0;34m(\u001b[0m\u001b[0mself\u001b[0m\u001b[0;34m)\u001b[0m\u001b[0;34m:\u001b[0m\u001b[0;34m\u001b[0m\u001b[0;34m\u001b[0m\u001b[0m\n",
            "\u001b[0;32m/usr/local/lib/python3.7/dist-packages/matplotlib/axes/_base.py\u001b[0m in \u001b[0;36m_plot_args\u001b[0;34m(self, tup, kwargs)\u001b[0m\n\u001b[1;32m    340\u001b[0m \u001b[0;34m\u001b[0m\u001b[0m\n\u001b[1;32m    341\u001b[0m         \u001b[0;32mif\u001b[0m \u001b[0mx\u001b[0m\u001b[0;34m.\u001b[0m\u001b[0mshape\u001b[0m\u001b[0;34m[\u001b[0m\u001b[0;36m0\u001b[0m\u001b[0;34m]\u001b[0m \u001b[0;34m!=\u001b[0m \u001b[0my\u001b[0m\u001b[0;34m.\u001b[0m\u001b[0mshape\u001b[0m\u001b[0;34m[\u001b[0m\u001b[0;36m0\u001b[0m\u001b[0;34m]\u001b[0m\u001b[0;34m:\u001b[0m\u001b[0;34m\u001b[0m\u001b[0;34m\u001b[0m\u001b[0m\n\u001b[0;32m--> 342\u001b[0;31m             raise ValueError(f\"x and y must have same first dimension, but \"\n\u001b[0m\u001b[1;32m    343\u001b[0m                              f\"have shapes {x.shape} and {y.shape}\")\n\u001b[1;32m    344\u001b[0m         \u001b[0;32mif\u001b[0m \u001b[0mx\u001b[0m\u001b[0;34m.\u001b[0m\u001b[0mndim\u001b[0m \u001b[0;34m>\u001b[0m \u001b[0;36m2\u001b[0m \u001b[0;32mor\u001b[0m \u001b[0my\u001b[0m\u001b[0;34m.\u001b[0m\u001b[0mndim\u001b[0m \u001b[0;34m>\u001b[0m \u001b[0;36m2\u001b[0m\u001b[0;34m:\u001b[0m\u001b[0;34m\u001b[0m\u001b[0;34m\u001b[0m\u001b[0m\n",
            "\u001b[0;31mValueError\u001b[0m: x and y must have same first dimension, but have shapes (500,) and (1000,)"
          ]
        },
        {
          "output_type": "display_data",
          "data": {
            "text/plain": [
              "<Figure size 432x288 with 1 Axes>"
            ],
            "image/png": "[encoded data removed]"
          },
          "metadata": {
            "needs_background": "light"
          }
        }
      ]
    },
    {
      "cell_type": "markdown",
      "source": [
        ""
      ],
      "metadata": {
        "id": "pi2oxsaWAtYi"
      }
    },
    {
      "cell_type": "markdown",
      "source": [
        "## Epsilon Greedy"
      ],
      "metadata": {
        "id": "7q_mJEYPAvAb"
      }
    },
    {
      "cell_type": "code",
      "source": [
        "## init estimate reward to be high, so that each arm shall get some chance to be exploited in the initial phase\n",
        "estimate_reward = np.array([1.0] * 5)\n",
        "chosen_times = np.array([1] * 5)\n",
        "expected_return_best_arm = 0.6\n",
        "arm_expected_return = np.array([arm.get_p() for arm in Arms])\n",
        "avg_regret_by_turn_epsilon = []"
      ],
      "metadata": {
        "id": "_iTFkyI3B_FN"
      },
      "execution_count": 213,
      "outputs": []
    },
    {
      "cell_type": "code",
      "source": [
        "epsilon = 0.1\n",
        "def choose_arm_epsilon(estimate_reward):\n",
        "  if np.random.uniform(0, 1) < epsilon:\n",
        "      return np.random.choice(number_of_arms)\n",
        "  else:\n",
        "      return choose_argmax_arm(estimate_reward)"
      ],
      "metadata": {
        "id": "2-TLmbXiCDuG"
      },
      "execution_count": 214,
      "outputs": []
    },
    {
      "cell_type": "code",
      "source": [
        "for turn in range(500):\n",
        "    arm_index = choose_arm_epsilon(estimate_reward)\n",
        "    arm = Arms[arm_index]\n",
        "    reward = arm.toss()\n",
        "    new_estimate_for_chosen_arm = (chosen_times[arm_index] * estimate_reward[arm_index] + reward)/(chosen_times[arm_index] + 1)\n",
        "    estimate_reward[arm_index] = new_estimate_for_chosen_arm\n",
        "    chosen_times[arm_index] += 1\n",
        "    total_reward = np.dot(chosen_times-1, estimate_reward)\n",
        "    avg_regret_by_turn_epsilon.append(expected_return_best_arm - np.dot(chosen_times - 1, arm_expected_return)/np.sum(chosen_times - 1))"
      ],
      "metadata": {
        "id": "R-DtfucAAxUA"
      },
      "execution_count": 215,
      "outputs": []
    },
    {
      "cell_type": "code",
      "source": [
        "import matplotlib.pyplot as plt\n",
        "plt.plot(range(500), avg_regret_by_turn, label = \"greedy\")\n",
        "plt.plot(range(500), avg_regret_by_turn_epsilon, label = \"epsilon = 0.1\")\n",
        "plt.legend()\n",
        "plt.show()\n"
      ],
      "metadata": {
        "colab": {
          "base_uri": "https://localhost:8080/",
          "height": 265
        },
        "id": "evhXmuuCCNTP",
        "outputId": "9ef56417-c9ac-4026-db40-6d71d95fc5c5"
      },
      "execution_count": 216,
      "outputs": [
        {
          "output_type": "display_data",
          "data": {
            "text/plain": [
              "<Figure size 432x288 with 1 Axes>"
            ],
            "image/png": "[encoded data removed]"
          },
          "metadata": {
            "needs_background": "light"
          }
        }
      ]
    },
    {
      "cell_type": "code",
      "source": [
        ""
      ],
      "metadata": {
        "id": "yzcAL9J5CNlG"
      },
      "execution_count": null,
      "outputs": []
    },
    {
      "cell_type": "markdown",
      "source": [
        "## UCB (Upper Confidence Bound)"
      ],
      "metadata": {
        "id": "FPIEMQDfFTBG"
      }
    },
    {
      "cell_type": "markdown",
      "source": [
        "### key is that we choose action\n",
        "$ a_t = argmax_i(E(a_i) + c \\sqrt{\\frac{log(t)}{N_i}})$\n",
        "### c = confidence\n",
        "### $a_i$ = every arm\n",
        "### t = num of turns so far\n",
        "### $N_i$ = number of turns arm i has been chosen"
      ],
      "metadata": {
        "id": "L8u9R0WoFV9l"
      }
    },
    {
      "cell_type": "code",
      "source": [
        "## init estimate reward to be high, so that each arm shall get some chance to be exploited in the initial phase\n",
        "estimate_reward = np.array([1.0] * 5)\n",
        "chosen_times = np.array([1] * 5)\n",
        "expected_return_best_arm = 0.6\n",
        "arm_expected_return = np.array([arm.get_p() for arm in Arms])\n",
        "avg_regret_by_turn_ucb = []"
      ],
      "metadata": {
        "id": "QkYQjpSaFU5H"
      },
      "execution_count": 219,
      "outputs": []
    },
    {
      "cell_type": "code",
      "source": [
        "def choose_arm_UCB(estimate_reward, chosen_times, c, t):\n",
        "    estimate_upper_bound = estimate_reward + c * np.sqrt(np.log(t)/chosen_times)\n",
        "    return choose_argmax_arm(estimate_upper_bound)"
      ],
      "metadata": {
        "id": "wkYMcoLRHO9s"
      },
      "execution_count": 220,
      "outputs": []
    },
    {
      "cell_type": "code",
      "source": [
        "c = 0.2\n",
        "for turn in range(500):\n",
        "    arm_index = choose_arm_UCB(estimate_reward, chosen_times, c, turn+1)\n",
        "    arm = Arms[arm_index]\n",
        "    reward = arm.toss()\n",
        "    new_estimate_for_chosen_arm = (chosen_times[arm_index] * estimate_reward[arm_index] + reward)/(chosen_times[arm_index] + 1)\n",
        "    estimate_reward[arm_index] = new_estimate_for_chosen_arm\n",
        "    chosen_times[arm_index] += 1\n",
        "    total_reward = np.dot(chosen_times-1, estimate_reward)\n",
        "    avg_regret_by_turn_ucb.append(expected_return_best_arm - np.dot(chosen_times - 1, arm_expected_return)/np.sum(chosen_times - 1))"
      ],
      "metadata": {
        "id": "7b-QAnNBIIXe"
      },
      "execution_count": 221,
      "outputs": []
    },
    {
      "cell_type": "code",
      "source": [
        "choose_arm_UCB(estimate_reward, chosen_times, 1, 1)"
      ],
      "metadata": {
        "colab": {
          "base_uri": "https://localhost:8080/"
        },
        "id": "6AhXSyfJIInI",
        "outputId": "0eb3b76b-47e5-4e04-aa2b-7cde966c6845"
      },
      "execution_count": 198,
      "outputs": [
        {
          "output_type": "execute_result",
          "data": {
            "text/plain": [
              "4"
            ]
          },
          "metadata": {},
          "execution_count": 198
        }
      ]
    },
    {
      "cell_type": "code",
      "source": [
        "chosen_times"
      ],
      "metadata": {
        "colab": {
          "base_uri": "https://localhost:8080/"
        },
        "id": "VP-6Y2JCIMPc",
        "outputId": "2343c421-15ab-4936-eeb6-f203d317c0c8"
      },
      "execution_count": 223,
      "outputs": [
        {
          "output_type": "execute_result",
          "data": {
            "text/plain": [
              "array([  4,   4,   4,   8, 485])"
            ]
          },
          "metadata": {},
          "execution_count": 223
        }
      ]
    },
    {
      "cell_type": "code",
      "source": [
        "import matplotlib.pyplot as plt\n",
        "plt.plot(range(500), avg_regret_by_turn, label = \"greedy\")\n",
        "plt.plot(range(500), avg_regret_by_turn_epsilon, label = f\"epsilon = {epsilon}\")\n",
        "plt.plot(range(500), avg_regret_by_turn_ucb, label = f\"UCB, c = {c}\")\n",
        "\n",
        "plt.legend()\n",
        "plt.show()"
      ],
      "metadata": {
        "colab": {
          "base_uri": "https://localhost:8080/",
          "height": 265
        },
        "id": "97RmYJgBKB-p",
        "outputId": "fe9f91a4-f60f-45d9-a861-ab4f1564e437"
      },
      "execution_count": 222,
      "outputs": [
        {
          "output_type": "display_data",
          "data": {
            "text/plain": [
              "<Figure size 432x288 with 1 Axes>"
            ],
            "image/png": "[encoded data removed]"
          },
          "metadata": {
            "needs_background": "light"
          }
        }
      ]
    },
    {
      "cell_type": "code",
      "source": [
        ""
      ],
      "metadata": {
        "id": "xfPIXE5SKH8Y"
      },
      "execution_count": null,
      "outputs": []
    }
  ]
}